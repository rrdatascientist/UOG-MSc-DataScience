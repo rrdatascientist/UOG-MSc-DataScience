{
  "cells": [
    {
      "cell_type": "code",
      "execution_count": 18,
      "id": "de5dba8c",
      "metadata": {
        "colab": {
          "base_uri": "https://localhost:8080/"
        },
        "id": "de5dba8c",
        "outputId": "c382f80c-cca8-4466-815a-196fdf556a0b"
      },
      "outputs": [
        {
          "output_type": "stream",
          "name": "stderr",
          "text": [
            "[nltk_data] Downloading package punkt to /root/nltk_data...\n",
            "[nltk_data]   Package punkt is already up-to-date!\n",
            "[nltk_data] Downloading package stopwords to /root/nltk_data...\n",
            "[nltk_data]   Package stopwords is already up-to-date!\n"
          ]
        }
      ],
      "source": [
        "import pandas as pd\n",
        "import numpy as np\n",
        "import matplotlib.pyplot as plt\n",
        "import seaborn as sns\n",
        "import nltk\n",
        "nltk.download('punkt')\n",
        "nltk.download('stopwords')\n",
        "from nltk.tokenize import word_tokenize\n",
        "from nltk.stem import PorterStemmer\n",
        "from nltk.corpus import stopwords\n",
        "from sklearn.feature_extraction.text import TfidfVectorizer\n",
        "from sklearn.model_selection import train_test_split\n",
        "from sklearn.linear_model import LogisticRegression\n",
        "from sklearn.metrics import confusion_matrix, accuracy_score\n",
        "from sklearn.metrics import classification_report\n",
        "from sklearn.preprocessing import LabelEncoder\n",
        "from sklearn.metrics import precision_score, recall_score, f1_score\n",
        "import warnings\n",
        "warnings.filterwarnings(\"ignore\")"
      ]
    },
    {
      "cell_type": "code",
      "execution_count": 2,
      "id": "c77f76ee",
      "metadata": {
        "id": "c77f76ee"
      },
      "outputs": [],
      "source": [
        "# Load the dataset\n",
        "para_data = pd.read_csv('/content/comp1804_coursework_dataset_23-24 (1).csv')"
      ]
    },
    {
      "cell_type": "code",
      "execution_count": 3,
      "id": "a9ef28b5",
      "metadata": {
        "scrolled": false,
        "colab": {
          "base_uri": "https://localhost:8080/",
          "height": 345
        },
        "id": "a9ef28b5",
        "outputId": "079880c4-addb-4f47-a203-1a8a2e17c005"
      },
      "outputs": [
        {
          "output_type": "execute_result",
          "data": {
            "text/plain": [
              "         par_id                                          paragraph  \\\n",
              "0  428209002237  Ramsay was born in Glasgow on 2 October 1852. ...   \n",
              "1  564218010072  It has been widely estimated for at least the ...   \n",
              "2  291401001672  He went on to win the Royal Medal of the Royal...   \n",
              "3   31548004883  The changes have altered many underlying assum...   \n",
              "4   50634005146  After these novels were published, Disraeli de...   \n",
              "\n",
              "                        has_entity  lexicon_count  difficult_words  \\\n",
              "0   ORG_YES_PRODUCT_NO_PERSON_YES_             49             12.0   \n",
              "1    ORG_YES_PRODUCT_NO_PERSON_NO_            166             47.0   \n",
              "2    ORG_YES_PRODUCT_NO_PERSON_NO_             69             18.0   \n",
              "3    ORG_NO_PRODUCT_YES_PERSON_NO_             76             27.0   \n",
              "4  ORG_YES_PRODUCT_YES_PERSON_YES_            200             47.0   \n",
              "\n",
              "  last_editor_gender                 category      text_clarity  \n",
              "0                man              biographies      clear_enough  \n",
              "1                man  artificial intelligence  not_clear_enough  \n",
              "2         non-binary              biographies      clear_enough  \n",
              "3         non-binary              programming      clear_enough  \n",
              "4                man              biographies  not_clear_enough  "
            ],
            "text/html": [
              "\n",
              "  <div id=\"df-24d70cbb-7a75-4c20-b2ca-1dd9c06bc46e\" class=\"colab-df-container\">\n",
              "    <div>\n",
              "<style scoped>\n",
              "    .dataframe tbody tr th:only-of-type {\n",
              "        vertical-align: middle;\n",
              "    }\n",
              "\n",
              "    .dataframe tbody tr th {\n",
              "        vertical-align: top;\n",
              "    }\n",
              "\n",
              "    .dataframe thead th {\n",
              "        text-align: right;\n",
              "    }\n",
              "</style>\n",
              "<table border=\"1\" class=\"dataframe\">\n",
              "  <thead>\n",
              "    <tr style=\"text-align: right;\">\n",
              "      <th></th>\n",
              "      <th>par_id</th>\n",
              "      <th>paragraph</th>\n",
              "      <th>has_entity</th>\n",
              "      <th>lexicon_count</th>\n",
              "      <th>difficult_words</th>\n",
              "      <th>last_editor_gender</th>\n",
              "      <th>category</th>\n",
              "      <th>text_clarity</th>\n",
              "    </tr>\n",
              "  </thead>\n",
              "  <tbody>\n",
              "    <tr>\n",
              "      <th>0</th>\n",
              "      <td>428209002237</td>\n",
              "      <td>Ramsay was born in Glasgow on 2 October 1852. ...</td>\n",
              "      <td>ORG_YES_PRODUCT_NO_PERSON_YES_</td>\n",
              "      <td>49</td>\n",
              "      <td>12.0</td>\n",
              "      <td>man</td>\n",
              "      <td>biographies</td>\n",
              "      <td>clear_enough</td>\n",
              "    </tr>\n",
              "    <tr>\n",
              "      <th>1</th>\n",
              "      <td>564218010072</td>\n",
              "      <td>It has been widely estimated for at least the ...</td>\n",
              "      <td>ORG_YES_PRODUCT_NO_PERSON_NO_</td>\n",
              "      <td>166</td>\n",
              "      <td>47.0</td>\n",
              "      <td>man</td>\n",
              "      <td>artificial intelligence</td>\n",
              "      <td>not_clear_enough</td>\n",
              "    </tr>\n",
              "    <tr>\n",
              "      <th>2</th>\n",
              "      <td>291401001672</td>\n",
              "      <td>He went on to win the Royal Medal of the Royal...</td>\n",
              "      <td>ORG_YES_PRODUCT_NO_PERSON_NO_</td>\n",
              "      <td>69</td>\n",
              "      <td>18.0</td>\n",
              "      <td>non-binary</td>\n",
              "      <td>biographies</td>\n",
              "      <td>clear_enough</td>\n",
              "    </tr>\n",
              "    <tr>\n",
              "      <th>3</th>\n",
              "      <td>31548004883</td>\n",
              "      <td>The changes have altered many underlying assum...</td>\n",
              "      <td>ORG_NO_PRODUCT_YES_PERSON_NO_</td>\n",
              "      <td>76</td>\n",
              "      <td>27.0</td>\n",
              "      <td>non-binary</td>\n",
              "      <td>programming</td>\n",
              "      <td>clear_enough</td>\n",
              "    </tr>\n",
              "    <tr>\n",
              "      <th>4</th>\n",
              "      <td>50634005146</td>\n",
              "      <td>After these novels were published, Disraeli de...</td>\n",
              "      <td>ORG_YES_PRODUCT_YES_PERSON_YES_</td>\n",
              "      <td>200</td>\n",
              "      <td>47.0</td>\n",
              "      <td>man</td>\n",
              "      <td>biographies</td>\n",
              "      <td>not_clear_enough</td>\n",
              "    </tr>\n",
              "  </tbody>\n",
              "</table>\n",
              "</div>\n",
              "    <div class=\"colab-df-buttons\">\n",
              "\n",
              "  <div class=\"colab-df-container\">\n",
              "    <button class=\"colab-df-convert\" onclick=\"convertToInteractive('df-24d70cbb-7a75-4c20-b2ca-1dd9c06bc46e')\"\n",
              "            title=\"Convert this dataframe to an interactive table.\"\n",
              "            style=\"display:none;\">\n",
              "\n",
              "  <svg xmlns=\"http://www.w3.org/2000/svg\" height=\"24px\" viewBox=\"0 -960 960 960\">\n",
              "    <path d=\"M120-120v-720h720v720H120Zm60-500h600v-160H180v160Zm220 220h160v-160H400v160Zm0 220h160v-160H400v160ZM180-400h160v-160H180v160Zm440 0h160v-160H620v160ZM180-180h160v-160H180v160Zm440 0h160v-160H620v160Z\"/>\n",
              "  </svg>\n",
              "    </button>\n",
              "\n",
              "  <style>\n",
              "    .colab-df-container {\n",
              "      display:flex;\n",
              "      gap: 12px;\n",
              "    }\n",
              "\n",
              "    .colab-df-convert {\n",
              "      background-color: #E8F0FE;\n",
              "      border: none;\n",
              "      border-radius: 50%;\n",
              "      cursor: pointer;\n",
              "      display: none;\n",
              "      fill: #1967D2;\n",
              "      height: 32px;\n",
              "      padding: 0 0 0 0;\n",
              "      width: 32px;\n",
              "    }\n",
              "\n",
              "    .colab-df-convert:hover {\n",
              "      background-color: #E2EBFA;\n",
              "      box-shadow: 0px 1px 2px rgba(60, 64, 67, 0.3), 0px 1px 3px 1px rgba(60, 64, 67, 0.15);\n",
              "      fill: #174EA6;\n",
              "    }\n",
              "\n",
              "    .colab-df-buttons div {\n",
              "      margin-bottom: 4px;\n",
              "    }\n",
              "\n",
              "    [theme=dark] .colab-df-convert {\n",
              "      background-color: #3B4455;\n",
              "      fill: #D2E3FC;\n",
              "    }\n",
              "\n",
              "    [theme=dark] .colab-df-convert:hover {\n",
              "      background-color: #434B5C;\n",
              "      box-shadow: 0px 1px 3px 1px rgba(0, 0, 0, 0.15);\n",
              "      filter: drop-shadow(0px 1px 2px rgba(0, 0, 0, 0.3));\n",
              "      fill: #FFFFFF;\n",
              "    }\n",
              "  </style>\n",
              "\n",
              "    <script>\n",
              "      const buttonEl =\n",
              "        document.querySelector('#df-24d70cbb-7a75-4c20-b2ca-1dd9c06bc46e button.colab-df-convert');\n",
              "      buttonEl.style.display =\n",
              "        google.colab.kernel.accessAllowed ? 'block' : 'none';\n",
              "\n",
              "      async function convertToInteractive(key) {\n",
              "        const element = document.querySelector('#df-24d70cbb-7a75-4c20-b2ca-1dd9c06bc46e');\n",
              "        const dataTable =\n",
              "          await google.colab.kernel.invokeFunction('convertToInteractive',\n",
              "                                                    [key], {});\n",
              "        if (!dataTable) return;\n",
              "\n",
              "        const docLinkHtml = 'Like what you see? Visit the ' +\n",
              "          '<a target=\"_blank\" href=https://colab.research.google.com/notebooks/data_table.ipynb>data table notebook</a>'\n",
              "          + ' to learn more about interactive tables.';\n",
              "        element.innerHTML = '';\n",
              "        dataTable['output_type'] = 'display_data';\n",
              "        await google.colab.output.renderOutput(dataTable, element);\n",
              "        const docLink = document.createElement('div');\n",
              "        docLink.innerHTML = docLinkHtml;\n",
              "        element.appendChild(docLink);\n",
              "      }\n",
              "    </script>\n",
              "  </div>\n",
              "\n",
              "\n",
              "<div id=\"df-8a3867d7-5572-46fa-8258-36a4d0dc1f46\">\n",
              "  <button class=\"colab-df-quickchart\" onclick=\"quickchart('df-8a3867d7-5572-46fa-8258-36a4d0dc1f46')\"\n",
              "            title=\"Suggest charts\"\n",
              "            style=\"display:none;\">\n",
              "\n",
              "<svg xmlns=\"http://www.w3.org/2000/svg\" height=\"24px\"viewBox=\"0 0 24 24\"\n",
              "     width=\"24px\">\n",
              "    <g>\n",
              "        <path d=\"M19 3H5c-1.1 0-2 .9-2 2v14c0 1.1.9 2 2 2h14c1.1 0 2-.9 2-2V5c0-1.1-.9-2-2-2zM9 17H7v-7h2v7zm4 0h-2V7h2v10zm4 0h-2v-4h2v4z\"/>\n",
              "    </g>\n",
              "</svg>\n",
              "  </button>\n",
              "\n",
              "<style>\n",
              "  .colab-df-quickchart {\n",
              "      --bg-color: #E8F0FE;\n",
              "      --fill-color: #1967D2;\n",
              "      --hover-bg-color: #E2EBFA;\n",
              "      --hover-fill-color: #174EA6;\n",
              "      --disabled-fill-color: #AAA;\n",
              "      --disabled-bg-color: #DDD;\n",
              "  }\n",
              "\n",
              "  [theme=dark] .colab-df-quickchart {\n",
              "      --bg-color: #3B4455;\n",
              "      --fill-color: #D2E3FC;\n",
              "      --hover-bg-color: #434B5C;\n",
              "      --hover-fill-color: #FFFFFF;\n",
              "      --disabled-bg-color: #3B4455;\n",
              "      --disabled-fill-color: #666;\n",
              "  }\n",
              "\n",
              "  .colab-df-quickchart {\n",
              "    background-color: var(--bg-color);\n",
              "    border: none;\n",
              "    border-radius: 50%;\n",
              "    cursor: pointer;\n",
              "    display: none;\n",
              "    fill: var(--fill-color);\n",
              "    height: 32px;\n",
              "    padding: 0;\n",
              "    width: 32px;\n",
              "  }\n",
              "\n",
              "  .colab-df-quickchart:hover {\n",
              "    background-color: var(--hover-bg-color);\n",
              "    box-shadow: 0 1px 2px rgba(60, 64, 67, 0.3), 0 1px 3px 1px rgba(60, 64, 67, 0.15);\n",
              "    fill: var(--button-hover-fill-color);\n",
              "  }\n",
              "\n",
              "  .colab-df-quickchart-complete:disabled,\n",
              "  .colab-df-quickchart-complete:disabled:hover {\n",
              "    background-color: var(--disabled-bg-color);\n",
              "    fill: var(--disabled-fill-color);\n",
              "    box-shadow: none;\n",
              "  }\n",
              "\n",
              "  .colab-df-spinner {\n",
              "    border: 2px solid var(--fill-color);\n",
              "    border-color: transparent;\n",
              "    border-bottom-color: var(--fill-color);\n",
              "    animation:\n",
              "      spin 1s steps(1) infinite;\n",
              "  }\n",
              "\n",
              "  @keyframes spin {\n",
              "    0% {\n",
              "      border-color: transparent;\n",
              "      border-bottom-color: var(--fill-color);\n",
              "      border-left-color: var(--fill-color);\n",
              "    }\n",
              "    20% {\n",
              "      border-color: transparent;\n",
              "      border-left-color: var(--fill-color);\n",
              "      border-top-color: var(--fill-color);\n",
              "    }\n",
              "    30% {\n",
              "      border-color: transparent;\n",
              "      border-left-color: var(--fill-color);\n",
              "      border-top-color: var(--fill-color);\n",
              "      border-right-color: var(--fill-color);\n",
              "    }\n",
              "    40% {\n",
              "      border-color: transparent;\n",
              "      border-right-color: var(--fill-color);\n",
              "      border-top-color: var(--fill-color);\n",
              "    }\n",
              "    60% {\n",
              "      border-color: transparent;\n",
              "      border-right-color: var(--fill-color);\n",
              "    }\n",
              "    80% {\n",
              "      border-color: transparent;\n",
              "      border-right-color: var(--fill-color);\n",
              "      border-bottom-color: var(--fill-color);\n",
              "    }\n",
              "    90% {\n",
              "      border-color: transparent;\n",
              "      border-bottom-color: var(--fill-color);\n",
              "    }\n",
              "  }\n",
              "</style>\n",
              "\n",
              "  <script>\n",
              "    async function quickchart(key) {\n",
              "      const quickchartButtonEl =\n",
              "        document.querySelector('#' + key + ' button');\n",
              "      quickchartButtonEl.disabled = true;  // To prevent multiple clicks.\n",
              "      quickchartButtonEl.classList.add('colab-df-spinner');\n",
              "      try {\n",
              "        const charts = await google.colab.kernel.invokeFunction(\n",
              "            'suggestCharts', [key], {});\n",
              "      } catch (error) {\n",
              "        console.error('Error during call to suggestCharts:', error);\n",
              "      }\n",
              "      quickchartButtonEl.classList.remove('colab-df-spinner');\n",
              "      quickchartButtonEl.classList.add('colab-df-quickchart-complete');\n",
              "    }\n",
              "    (() => {\n",
              "      let quickchartButtonEl =\n",
              "        document.querySelector('#df-8a3867d7-5572-46fa-8258-36a4d0dc1f46 button');\n",
              "      quickchartButtonEl.style.display =\n",
              "        google.colab.kernel.accessAllowed ? 'block' : 'none';\n",
              "    })();\n",
              "  </script>\n",
              "</div>\n",
              "    </div>\n",
              "  </div>\n"
            ],
            "application/vnd.google.colaboratory.intrinsic+json": {
              "type": "dataframe",
              "variable_name": "para_data",
              "summary": "{\n  \"name\": \"para_data\",\n  \"rows\": 9347,\n  \"fields\": [\n    {\n      \"column\": \"par_id\",\n      \"properties\": {\n        \"dtype\": \"number\",\n        \"std\": 322139880749,\n        \"min\": 85003276,\n        \"max\": 1058779003275,\n        \"num_unique_values\": 9132,\n        \"samples\": [\n          759851002842,\n          77886005808,\n          325706008765\n        ],\n        \"semantic_type\": \"\",\n        \"description\": \"\"\n      }\n    },\n    {\n      \"column\": \"paragraph\",\n      \"properties\": {\n        \"dtype\": \"string\",\n        \"num_unique_values\": 8992,\n        \"samples\": [\n          \"In 1891, Thomas married Mary Kane, daughter of Sir Andrew Clark, heiress to a small fortune, which gave him the finances to hire mammal collectors and present their specimens to the museum. He also did field work himself in Western Europe and South America. His wife shared his interest in natural history, and accompanied him on collecting trips. In 1896, when William Henry Flower took control of the department, he hired Richard Lydekker to rearrange the exhibitions, allowing Thomas to concentrate on these new specimens.Thomas viewed his taxonomy efforts from the scope of British imperialism. \\\"You and I in our scientific lives have seen the general knowledge of Mammals of the world wonderfully advanced \\u2013 there are few or no blank areas anymore,\\\" he said in a letter to Gerrit Smith Miller Jr.Officially retired from the museum in 1923, he continued his work without interruption. Although popular rumours suggested he died by shooting himself with a handgun while sitting at his museum desk, he actually died at home in 1929, aged 71, about a year after the death of his wife, \\\"a severe blow from which he never recovered.\\\"\",\n          \"Disraeli always considered foreign affairs to be the most critical and interesting part of statesmanship. Nevertheless, his biographer Robert Blake doubts that his subject had specific ideas about foreign policy when he took office in 1874. He had rarely travelled abroad; since his youthful tour of the Middle East in 1830\\u20131831, he had left Britain only for his honeymoon and three visits to Paris, the last of which was in 1856. As he had criticised Gladstone for a do-nothing foreign policy, he most probably contemplated what actions would reassert Britain's place in Europe. His brief first premiership, and the first year of his second, gave him little opportunity to make his mark in foreign affairs.\",\n          \"I have sent your Watch at last & envy the felicity of it, that it should be soe near your side & soe often enjoy your Eye. ... .but have a care for it, for I have put such a spell into it; that every Beating of the Balance will tell you 'tis the Pulse of my Heart, which labors as much to serve you and more trewly than the Watch; for the Watch I beleeve will sometimes lie, and sometimes be idle & unwilling ... but as for me you may be confident I shall never ...\"\n        ],\n        \"semantic_type\": \"\",\n        \"description\": \"\"\n      }\n    },\n    {\n      \"column\": \"has_entity\",\n      \"properties\": {\n        \"dtype\": \"category\",\n        \"num_unique_values\": 9,\n        \"samples\": [\n          \"ORG_YES_PRODUCT_YES_PERSON_NO_\",\n          \"ORG_YES_PRODUCT_NO_PERSON_NO_\",\n          \"ORG_NO_PRODUCT_YES_PERSON_YES_\"\n        ],\n        \"semantic_type\": \"\",\n        \"description\": \"\"\n      }\n    },\n    {\n      \"column\": \"lexicon_count\",\n      \"properties\": {\n        \"dtype\": \"number\",\n        \"std\": 63,\n        \"min\": 0,\n        \"max\": 653,\n        \"num_unique_values\": 348,\n        \"samples\": [\n          237,\n          82,\n          274\n        ],\n        \"semantic_type\": \"\",\n        \"description\": \"\"\n      }\n    },\n    {\n      \"column\": \"difficult_words\",\n      \"properties\": {\n        \"dtype\": \"number\",\n        \"std\": 16.307358092882417,\n        \"min\": 0.0,\n        \"max\": 143.0,\n        \"num_unique_values\": 113,\n        \"samples\": [\n          96.0,\n          36.0,\n          15.0\n        ],\n        \"semantic_type\": \"\",\n        \"description\": \"\"\n      }\n    },\n    {\n      \"column\": \"last_editor_gender\",\n      \"properties\": {\n        \"dtype\": \"category\",\n        \"num_unique_values\": 4,\n        \"samples\": [\n          \"non-binary\",\n          \"prefer_not_to_say\",\n          \"man\"\n        ],\n        \"semantic_type\": \"\",\n        \"description\": \"\"\n      }\n    },\n    {\n      \"column\": \"category\",\n      \"properties\": {\n        \"dtype\": \"category\",\n        \"num_unique_values\": 10,\n        \"samples\": [\n          \"Biographies\",\n          \"artificial intelligence\",\n          \"Philosophy\"\n        ],\n        \"semantic_type\": \"\",\n        \"description\": \"\"\n      }\n    },\n    {\n      \"column\": \"text_clarity\",\n      \"properties\": {\n        \"dtype\": \"category\",\n        \"num_unique_values\": 2,\n        \"samples\": [\n          \"not_clear_enough\",\n          \"clear_enough\"\n        ],\n        \"semantic_type\": \"\",\n        \"description\": \"\"\n      }\n    }\n  ]\n}"
            }
          },
          "metadata": {},
          "execution_count": 3
        }
      ],
      "source": [
        "para_data.head()"
      ]
    },
    {
      "cell_type": "code",
      "execution_count": 4,
      "id": "891d1f0e",
      "metadata": {
        "colab": {
          "base_uri": "https://localhost:8080/"
        },
        "id": "891d1f0e",
        "outputId": "48b7ab9a-c6cc-4a79-e718-81cb58717900"
      },
      "outputs": [
        {
          "output_type": "stream",
          "name": "stdout",
          "text": [
            "<class 'pandas.core.frame.DataFrame'>\n",
            "RangeIndex: 9347 entries, 0 to 9346\n",
            "Data columns (total 8 columns):\n",
            " #   Column              Non-Null Count  Dtype  \n",
            "---  ------              --------------  -----  \n",
            " 0   par_id              9347 non-null   int64  \n",
            " 1   paragraph           9347 non-null   object \n",
            " 2   has_entity          9347 non-null   object \n",
            " 3   lexicon_count       9347 non-null   int64  \n",
            " 4   difficult_words     9329 non-null   float64\n",
            " 5   last_editor_gender  9347 non-null   object \n",
            " 6   category            9286 non-null   object \n",
            " 7   text_clarity        9 non-null      object \n",
            "dtypes: float64(1), int64(2), object(5)\n",
            "memory usage: 584.3+ KB\n"
          ]
        }
      ],
      "source": [
        "para_data.info()"
      ]
    },
    {
      "cell_type": "code",
      "execution_count": 5,
      "id": "9f3a7055",
      "metadata": {
        "colab": {
          "base_uri": "https://localhost:8080/"
        },
        "id": "9f3a7055",
        "outputId": "d4354068-6f83-4793-dca3-9ca12d539a7a"
      },
      "outputs": [
        {
          "output_type": "execute_result",
          "data": {
            "text/plain": [
              "(9347, 8)"
            ]
          },
          "metadata": {},
          "execution_count": 5
        }
      ],
      "source": [
        "para_data.shape"
      ]
    },
    {
      "cell_type": "code",
      "execution_count": 6,
      "id": "a6fba81a",
      "metadata": {
        "colab": {
          "base_uri": "https://localhost:8080/"
        },
        "id": "a6fba81a",
        "outputId": "73910ae4-5809-4ddb-ca7c-1531c3e24c02"
      },
      "outputs": [
        {
          "output_type": "execute_result",
          "data": {
            "text/plain": [
              "par_id                   0\n",
              "paragraph                0\n",
              "has_entity               0\n",
              "lexicon_count            0\n",
              "difficult_words         18\n",
              "last_editor_gender       0\n",
              "category                61\n",
              "text_clarity          9338\n",
              "dtype: int64"
            ]
          },
          "metadata": {},
          "execution_count": 6
        }
      ],
      "source": [
        "para_data.isnull().sum()"
      ]
    },
    {
      "cell_type": "code",
      "execution_count": 7,
      "id": "ce80ec37",
      "metadata": {
        "id": "ce80ec37"
      },
      "outputs": [],
      "source": [
        "# Data Preprocessing\n",
        "para_data['difficult_words'] = para_data['difficult_words'].fillna(0)\n",
        "para_data['category'] = para_data['category'].fillna('unknown')"
      ]
    },
    {
      "cell_type": "code",
      "execution_count": 8,
      "id": "d68d63c4",
      "metadata": {
        "scrolled": true,
        "colab": {
          "base_uri": "https://localhost:8080/"
        },
        "id": "d68d63c4",
        "outputId": "dc53df6e-9c4c-4060-97d0-6bc858fe2474"
      },
      "outputs": [
        {
          "output_type": "execute_result",
          "data": {
            "text/plain": [
              "biographies                             2942\n",
              "philosophy                              2585\n",
              "programming                             1980\n",
              "artificial intelligence                 1565\n",
              "movies about artificial intelligence     166\n",
              "unknown                                   61\n",
              "Philosophy                                13\n",
              "Biographies                               13\n",
              "Artificial intelligence                   11\n",
              "Programming                               10\n",
              "Movies about artificial intelligence       1\n",
              "Name: category, dtype: int64"
            ]
          },
          "metadata": {},
          "execution_count": 8
        }
      ],
      "source": [
        "para_data['category'].value_counts()"
      ]
    },
    {
      "cell_type": "code",
      "execution_count": 9,
      "id": "9de78ee6",
      "metadata": {
        "id": "9de78ee6"
      },
      "outputs": [],
      "source": [
        "para_data['category'] = para_data['category'].str.lower()"
      ]
    },
    {
      "cell_type": "markdown",
      "id": "5cd6da9a",
      "metadata": {
        "id": "5cd6da9a"
      },
      "source": [
        "### EDA"
      ]
    },
    {
      "cell_type": "code",
      "execution_count": 10,
      "id": "2261fed7",
      "metadata": {
        "colab": {
          "base_uri": "https://localhost:8080/",
          "height": 333
        },
        "id": "2261fed7",
        "outputId": "a4b74098-6d60-4425-e3be-ffaa0bc737d0"
      },
      "outputs": [
        {
          "output_type": "display_data",
          "data": {
            "text/plain": [
              "<Figure size 500x300 with 1 Axes>"
            ],
            "image/png": "[encoded data removed]"
          },
          "metadata": {}
        }
      ],
      "source": [
        "# Plotting histogram for 'lexicon_count'\n",
        "plt.figure(figsize=(5,3))\n",
        "plt.hist(para_data['lexicon_count'], bins=5, color='green', edgecolor='black')\n",
        "plt.title('Histogram of Lexicon Count')\n",
        "plt.xlabel('Lexicon Count')\n",
        "plt.ylabel('Frequency')\n",
        "plt.show()"
      ]
    },
    {
      "cell_type": "code",
      "execution_count": 11,
      "id": "4c58f1e4",
      "metadata": {
        "colab": {
          "base_uri": "https://localhost:8080/",
          "height": 765
        },
        "id": "4c58f1e4",
        "outputId": "ec200b99-a052-4e94-c922-9a5e43fa3b4f"
      },
      "outputs": [
        {
          "output_type": "display_data",
          "data": {
            "text/plain": [
              "<Figure size 800x600 with 1 Axes>"
            ],
            "image/png": "[encoded data removed]"
          },
          "metadata": {}
        }
      ],
      "source": [
        "plt.figure(figsize=(8, 6))\n",
        "sns.countplot(x='category', data=para_data, palette='muted')\n",
        "plt.title('Category Counts')\n",
        "plt.xlabel('Category')\n",
        "plt.ylabel('Count')\n",
        "plt.xticks(rotation=60)\n",
        "plt.show()"
      ]
    },
    {
      "cell_type": "code",
      "execution_count": 19,
      "id": "2ba48638",
      "metadata": {
        "id": "2ba48638"
      },
      "outputs": [],
      "source": [
        "def preprocess_text_para(text):\n",
        "    stemmer = PorterStemmer()\n",
        "\n",
        "    # Tokenization\n",
        "    tokens = word_tokenize(text)\n",
        "\n",
        "    # Lowercasing\n",
        "    tokens_lower = [word.lower() for word in tokens]\n",
        "\n",
        "    # Stop word removal\n",
        "    stop_words = set(stopwords.words('english'))\n",
        "    tokens_filtered = [word for word in tokens_lower if word not in stop_words]\n",
        "\n",
        "    # Stemming\n",
        "    stemmed_tokens = [stemmer.stem(word) for word in tokens_filtered]\n",
        "\n",
        "    return ' '.join(stemmed_tokens)\n",
        "\n",
        "para_data['preprocessed_paragraph'] = para_data['paragraph'].apply(preprocess_text_para)"
      ]
    },
    {
      "cell_type": "code",
      "execution_count": 20,
      "id": "906317d5",
      "metadata": {
        "id": "906317d5"
      },
      "outputs": [],
      "source": [
        "X_train, X_test, y_train, y_test = train_test_split(para_data[['preprocessed_paragraph',\n",
        "                                                                   'has_entity']], para_data['category'],\n",
        "                                                    test_size=0.2, random_state=125)"
      ]
    },
    {
      "cell_type": "code",
      "execution_count": 21,
      "id": "3ab70c4a",
      "metadata": {
        "id": "3ab70c4a"
      },
      "outputs": [],
      "source": [
        "lab_enc = LabelEncoder()\n",
        "X_train['has_entity'] = lab_enc.fit_transform(X_train['has_entity'])\n",
        "X_test['has_entity'] = lab_enc.transform(X_test['has_entity'])"
      ]
    },
    {
      "cell_type": "code",
      "execution_count": 22,
      "id": "5df8b72c",
      "metadata": {
        "id": "5df8b72c"
      },
      "outputs": [],
      "source": [
        "tfipara_data_vectorizer = TfidfVectorizer()\n",
        "X_train_tfipara_data = tfipara_data_vectorizer.fit_transform(X_train['preprocessed_paragraph'])\n",
        "X_test_tfipara_data = tfipara_data_vectorizer.transform(X_test['preprocessed_paragraph'])"
      ]
    },
    {
      "cell_type": "code",
      "execution_count": 23,
      "id": "edf3f933",
      "metadata": {
        "id": "edf3f933"
      },
      "outputs": [],
      "source": [
        "X_train_has_entity = X_train['has_entity'].reset_index(drop=True).astype(str)\n",
        "X_test_has_entity = X_test['has_entity'].reset_index(drop=True).astype(str)\n",
        "\n",
        "# Horizontally stack the TF-IDF arrays and 'has_entity' column using np.hstack\n",
        "X_train_combined = np.hstack((X_train_tfipara_data.toarray(), X_train_has_entity.values.reshape(-1, 1)))\n",
        "X_test_combined = np.hstack((X_test_tfipara_data.toarray(), X_test_has_entity.values.reshape(-1, 1)))"
      ]
    },
    {
      "cell_type": "code",
      "execution_count": 24,
      "id": "1d2f892d",
      "metadata": {
        "colab": {
          "base_uri": "https://localhost:8080/",
          "height": 74
        },
        "id": "1d2f892d",
        "outputId": "9d4d32a4-7e8e-4ca5-c4bf-f676b0978f5c"
      },
      "outputs": [
        {
          "output_type": "execute_result",
          "data": {
            "text/plain": [
              "LogisticRegression()"
            ],
            "text/html": [
              "<style>#sk-container-id-1 {color: black;background-color: white;}#sk-container-id-1 pre{padding: 0;}#sk-container-id-1 div.sk-toggleable {background-color: white;}#sk-container-id-1 label.sk-toggleable__label {cursor: pointer;display: block;width: 100%;margin-bottom: 0;padding: 0.3em;box-sizing: border-box;text-align: center;}#sk-container-id-1 label.sk-toggleable__label-arrow:before {content: \"▸\";float: left;margin-right: 0.25em;color: #696969;}#sk-container-id-1 label.sk-toggleable__label-arrow:hover:before {color: black;}#sk-container-id-1 div.sk-estimator:hover label.sk-toggleable__label-arrow:before {color: black;}#sk-container-id-1 div.sk-toggleable__content {max-height: 0;max-width: 0;overflow: hidden;text-align: left;background-color: #f0f8ff;}#sk-container-id-1 div.sk-toggleable__content pre {margin: 0.2em;color: black;border-radius: 0.25em;background-color: #f0f8ff;}#sk-container-id-1 input.sk-toggleable__control:checked~div.sk-toggleable__content {max-height: 200px;max-width: 100%;overflow: auto;}#sk-container-id-1 input.sk-toggleable__control:checked~label.sk-toggleable__label-arrow:before {content: \"▾\";}#sk-container-id-1 div.sk-estimator input.sk-toggleable__control:checked~label.sk-toggleable__label {background-color: #d4ebff;}#sk-container-id-1 div.sk-label input.sk-toggleable__control:checked~label.sk-toggleable__label {background-color: #d4ebff;}#sk-container-id-1 input.sk-hidden--visually {border: 0;clip: rect(1px 1px 1px 1px);clip: rect(1px, 1px, 1px, 1px);height: 1px;margin: -1px;overflow: hidden;padding: 0;position: absolute;width: 1px;}#sk-container-id-1 div.sk-estimator {font-family: monospace;background-color: #f0f8ff;border: 1px dotted black;border-radius: 0.25em;box-sizing: border-box;margin-bottom: 0.5em;}#sk-container-id-1 div.sk-estimator:hover {background-color: #d4ebff;}#sk-container-id-1 div.sk-parallel-item::after {content: \"\";width: 100%;border-bottom: 1px solid gray;flex-grow: 1;}#sk-container-id-1 div.sk-label:hover label.sk-toggleable__label {background-color: #d4ebff;}#sk-container-id-1 div.sk-serial::before {content: \"\";position: absolute;border-left: 1px solid gray;box-sizing: border-box;top: 0;bottom: 0;left: 50%;z-index: 0;}#sk-container-id-1 div.sk-serial {display: flex;flex-direction: column;align-items: center;background-color: white;padding-right: 0.2em;padding-left: 0.2em;position: relative;}#sk-container-id-1 div.sk-item {position: relative;z-index: 1;}#sk-container-id-1 div.sk-parallel {display: flex;align-items: stretch;justify-content: center;background-color: white;position: relative;}#sk-container-id-1 div.sk-item::before, #sk-container-id-1 div.sk-parallel-item::before {content: \"\";position: absolute;border-left: 1px solid gray;box-sizing: border-box;top: 0;bottom: 0;left: 50%;z-index: -1;}#sk-container-id-1 div.sk-parallel-item {display: flex;flex-direction: column;z-index: 1;position: relative;background-color: white;}#sk-container-id-1 div.sk-parallel-item:first-child::after {align-self: flex-end;width: 50%;}#sk-container-id-1 div.sk-parallel-item:last-child::after {align-self: flex-start;width: 50%;}#sk-container-id-1 div.sk-parallel-item:only-child::after {width: 0;}#sk-container-id-1 div.sk-dashed-wrapped {border: 1px dashed gray;margin: 0 0.4em 0.5em 0.4em;box-sizing: border-box;padding-bottom: 0.4em;background-color: white;}#sk-container-id-1 div.sk-label label {font-family: monospace;font-weight: bold;display: inline-block;line-height: 1.2em;}#sk-container-id-1 div.sk-label-container {text-align: center;}#sk-container-id-1 div.sk-container {/* jupyter's `normalize.less` sets `[hidden] { display: none; }` but bootstrap.min.css set `[hidden] { display: none !important; }` so we also need the `!important` here to be able to override the default hidden behavior on the sphinx rendered scikit-learn.org. See: https://github.com/scikit-learn/scikit-learn/issues/21755 */display: inline-block !important;position: relative;}#sk-container-id-1 div.sk-text-repr-fallback {display: none;}</style><div id=\"sk-container-id-1\" class=\"sk-top-container\"><div class=\"sk-text-repr-fallback\"><pre>LogisticRegression()</pre><b>In a Jupyter environment, please rerun this cell to show the HTML representation or trust the notebook. <br />On GitHub, the HTML representation is unable to render, please try loading this page with nbviewer.org.</b></div><div class=\"sk-container\" hidden><div class=\"sk-item\"><div class=\"sk-estimator sk-toggleable\"><input class=\"sk-toggleable__control sk-hidden--visually\" id=\"sk-estimator-id-1\" type=\"checkbox\" checked><label for=\"sk-estimator-id-1\" class=\"sk-toggleable__label sk-toggleable__label-arrow\">LogisticRegression</label><div class=\"sk-toggleable__content\"><pre>LogisticRegression()</pre></div></div></div></div></div>"
            ]
          },
          "metadata": {},
          "execution_count": 24
        }
      ],
      "source": [
        "lrc = LogisticRegression()\n",
        "lrc.fit(X_train_combined, y_train)"
      ]
    },
    {
      "cell_type": "code",
      "execution_count": 25,
      "id": "dcc6c841",
      "metadata": {
        "id": "dcc6c841"
      },
      "outputs": [],
      "source": [
        "lrc_pred = lrc.predict(X_test_combined)"
      ]
    },
    {
      "cell_type": "code",
      "execution_count": 26,
      "id": "3ea6bd18",
      "metadata": {
        "colab": {
          "base_uri": "https://localhost:8080/"
        },
        "id": "3ea6bd18",
        "outputId": "bbacc5c5-bc07-481a-e46d-d77eb21a80d2"
      },
      "outputs": [
        {
          "output_type": "stream",
          "name": "stdout",
          "text": [
            "90.21\n"
          ]
        }
      ],
      "source": [
        "accuracy = round(accuracy_score(y_test, lrc_pred)*100,2)\n",
        "print(accuracy)"
      ]
    },
    {
      "cell_type": "code",
      "execution_count": 27,
      "id": "1f8cfea2",
      "metadata": {
        "colab": {
          "base_uri": "https://localhost:8080/"
        },
        "id": "1f8cfea2",
        "outputId": "0e0c554e-4a12-491b-db79-19a45ba4d960"
      },
      "outputs": [
        {
          "output_type": "execute_result",
          "data": {
            "text/plain": [
              "array([[261,  12,   0,  19,  11,   0],\n",
              "       [  7, 557,   0,  31,   0,   0],\n",
              "       [  2,   7,  20,   1,   2,   0],\n",
              "       [  8,  33,   0, 469,   5,   0],\n",
              "       [  9,   7,   0,  14, 380,   0],\n",
              "       [  3,   2,   1,   5,   4,   0]])"
            ]
          },
          "metadata": {},
          "execution_count": 27
        }
      ],
      "source": [
        "confusion_matrix(y_test, lrc_pred)"
      ]
    },
    {
      "cell_type": "code",
      "execution_count": 28,
      "id": "af186069",
      "metadata": {
        "colab": {
          "base_uri": "https://localhost:8080/"
        },
        "id": "af186069",
        "outputId": "107ddce3-5716-402d-8e2d-65d6c08a10ab"
      },
      "outputs": [
        {
          "output_type": "stream",
          "name": "stdout",
          "text": [
            "                                      precision    recall  f1-score   support\n",
            "\n",
            "             artificial intelligence       0.90      0.86      0.88       303\n",
            "                         biographies       0.90      0.94      0.92       595\n",
            "movies about artificial intelligence       0.95      0.62      0.75        32\n",
            "                          philosophy       0.87      0.91      0.89       515\n",
            "                         programming       0.95      0.93      0.94       410\n",
            "                             unknown       0.00      0.00      0.00        15\n",
            "\n",
            "                            accuracy                           0.90      1870\n",
            "                           macro avg       0.76      0.71      0.73      1870\n",
            "                        weighted avg       0.90      0.90      0.90      1870\n",
            "\n"
          ]
        }
      ],
      "source": [
        "print(classification_report(y_test, lrc_pred))"
      ]
    },
    {
      "cell_type": "markdown",
      "id": "b53490c1",
      "metadata": {
        "id": "b53490c1"
      },
      "source": [
        "## b"
      ]
    },
    {
      "cell_type": "code",
      "execution_count": 29,
      "id": "e5b1279d",
      "metadata": {
        "colab": {
          "base_uri": "https://localhost:8080/"
        },
        "id": "e5b1279d",
        "outputId": "529b2022-cbe9-4781-890d-ceefb6f7c54c"
      },
      "outputs": [
        {
          "output_type": "execute_result",
          "data": {
            "text/plain": [
              "0.31614421739595594"
            ]
          },
          "metadata": {},
          "execution_count": 29
        }
      ],
      "source": [
        "# Check the baseline accuracy\n",
        "baseline_accuracy = para_data['category'].value_counts(normalize=True).max()\n",
        "baseline_accuracy"
      ]
    },
    {
      "cell_type": "code",
      "execution_count": 30,
      "id": "842696bd",
      "metadata": {
        "id": "842696bd"
      },
      "outputs": [],
      "source": [
        "y_tr_pr = lrc.predict(X_train_combined)\n",
        "y_te_pr = lrc.predict(X_test_combined)"
      ]
    },
    {
      "cell_type": "code",
      "execution_count": 31,
      "id": "a6240ee6",
      "metadata": {
        "id": "a6240ee6"
      },
      "outputs": [],
      "source": [
        "tr_acc = accuracy_score(y_train, y_tr_pr)\n",
        "acc_test = accuracy_score(y_test, y_te_pr)"
      ]
    },
    {
      "cell_type": "code",
      "execution_count": 32,
      "id": "23905129",
      "metadata": {
        "colab": {
          "base_uri": "https://localhost:8080/"
        },
        "id": "23905129",
        "outputId": "85ac631a-a161-4a9b-9606-ecfafd56ccb0"
      },
      "outputs": [
        {
          "output_type": "execute_result",
          "data": {
            "text/plain": [
              "0.9650929517186038"
            ]
          },
          "metadata": {},
          "execution_count": 32
        }
      ],
      "source": [
        "tr_acc"
      ]
    },
    {
      "cell_type": "code",
      "execution_count": 33,
      "id": "b0cf2e17",
      "metadata": {
        "colab": {
          "base_uri": "https://localhost:8080/"
        },
        "id": "b0cf2e17",
        "outputId": "8d0967e7-3071-4b35-bb2a-cd667a6dfed7"
      },
      "outputs": [
        {
          "output_type": "execute_result",
          "data": {
            "text/plain": [
              "0.902139037433155"
            ]
          },
          "metadata": {},
          "execution_count": 33
        }
      ],
      "source": [
        "acc_test"
      ]
    },
    {
      "cell_type": "code",
      "execution_count": 34,
      "id": "699c725d",
      "metadata": {
        "colab": {
          "base_uri": "https://localhost:8080/"
        },
        "id": "699c725d",
        "outputId": "34d8952b-4954-41ec-bc1c-59366ef88aed"
      },
      "outputs": [
        {
          "output_type": "stream",
          "name": "stdout",
          "text": [
            "Testing Misclassification Percentage for biographies: 30213.86%\n",
            "Testing Misclassification Percentage for artificial intelligence: 59406.39%\n",
            "Testing Misclassification Percentage for programming: 3137.50%\n",
            "Testing Misclassification Percentage for philosophy: 51408.93%\n",
            "Testing Misclassification Percentage for movies about artificial intelligence: 40907.32%\n",
            "Testing Misclassification Percentage for unknown: 1500.00%\n",
            "The model is better than the trivial baseline.\n"
          ]
        }
      ],
      "source": [
        "\n",
        "conf_matrix = confusion_matrix(y_test, y_te_pr)\n",
        "\n",
        "misclf_per = {}\n",
        "\n",
        "for i, category in enumerate(para_data['category'].unique()):\n",
        "    misclf_per[category] = conf_matrix[i, :].sum() - conf_matrix[i, i] / conf_matrix[i, :].sum()\n",
        "\n",
        "    print(f\"Testing Misclassification Percentage for {category}: {misclf_per[category] * 100:.2f}%\")\n",
        "\n",
        "baseline_accuracy = max(conf_matrix.sum(axis=0)) / conf_matrix.sum()\n",
        "acc_test = accuracy_score(y_test, y_te_pr)\n",
        "\n",
        "if acc_test > baseline_accuracy:\n",
        "    print(\"The model is better than the trivial baseline.\")\n",
        "else:\n",
        "    print(\"The model does not outperform the trivial baseline.\")"
      ]
    },
    {
      "cell_type": "markdown",
      "id": "cf086bd7",
      "metadata": {
        "id": "cf086bd7"
      },
      "source": [
        "## c"
      ]
    },
    {
      "cell_type": "code",
      "execution_count": 35,
      "id": "f4239300",
      "metadata": {
        "id": "f4239300"
      },
      "outputs": [],
      "source": [
        "# Calculate precision, recall, and F1-score\n",
        "precision_lrc = precision_score(y_test, lrc_pred, average='macro')\n",
        "f1_lrc = f1_score(y_test, lrc_pred, average='macro')\n",
        "recall_lrc = recall_score(y_test, lrc_pred, average='macro')"
      ]
    },
    {
      "cell_type": "code",
      "execution_count": 36,
      "id": "c45cce4a",
      "metadata": {
        "colab": {
          "base_uri": "https://localhost:8080/"
        },
        "id": "c45cce4a",
        "outputId": "f5ec7db4-7157-4592-b89a-4b176950d6b4"
      },
      "outputs": [
        {
          "output_type": "stream",
          "name": "stdout",
          "text": [
            "Precision: 0.7615131587889158\n",
            "F1-score: 0.7298791053745143\n",
            "Recall: 0.7100049120564238\n"
          ]
        }
      ],
      "source": [
        "print(\"Precision:\", precision_lrc)\n",
        "print(\"F1-score:\", f1_lrc)\n",
        "print(\"Recall:\", recall_lrc)"
      ]
    },
    {
      "cell_type": "markdown",
      "id": "0897eab0",
      "metadata": {
        "id": "0897eab0"
      },
      "source": [
        "# Task 2"
      ]
    },
    {
      "cell_type": "code",
      "execution_count": 37,
      "id": "a473b2c3",
      "metadata": {
        "id": "a473b2c3"
      },
      "outputs": [],
      "source": [
        "import random"
      ]
    },
    {
      "cell_type": "code",
      "execution_count": 38,
      "id": "48418428",
      "metadata": {
        "id": "48418428"
      },
      "outputs": [],
      "source": [
        "random.seed(121)\n",
        "clarity = para_data.sample(n=100, random_state=121).copy()\n",
        "clarity['text_clarity'] = [random.choice(['clear_enough', 'not_clear_enough']) for _ in range(100)]"
      ]
    },
    {
      "cell_type": "code",
      "execution_count": 39,
      "id": "79e67f7b",
      "metadata": {
        "id": "79e67f7b"
      },
      "outputs": [],
      "source": [
        "clarity.to_csv(\"clarity_data.csv\", index=False)"
      ]
    },
    {
      "cell_type": "code",
      "execution_count": 40,
      "id": "ffbf10f1",
      "metadata": {
        "colab": {
          "base_uri": "https://localhost:8080/",
          "height": 590
        },
        "id": "ffbf10f1",
        "outputId": "a0f0bbfb-49d5-4f14-f73d-67c25b2f5e02"
      },
      "outputs": [
        {
          "output_type": "execute_result",
          "data": {
            "text/plain": [
              "            par_id                                          paragraph  \\\n",
              "4990  745893011297  Clippy is Rust's built-in linting tool to impr...   \n",
              "4055  314496008689  Others have argued that the belief may not be ...   \n",
              "591   392496009362  Later BASIC versions on Commodore and other pl...   \n",
              "2606  686523011071  \"This World 2 is our primary reality. Our cons...   \n",
              "2593   13149004382  Aesthetics examines affective domain response ...   \n",
              "\n",
              "                          has_entity  lexicon_count  difficult_words  \\\n",
              "4990   ORG_YES_PRODUCT_NO_PERSON_NO_             52             14.0   \n",
              "4055  ORG_YES_PRODUCT_NO_PERSON_YES_            180             50.0   \n",
              "591    ORG_YES_PRODUCT_NO_PERSON_NO_             76             26.0   \n",
              "2606    ORG_NO_PRODUCT_NO_PERSON_NO_            159             36.0   \n",
              "2593    ORG_NO_PRODUCT_NO_PERSON_NO_             32             16.0   \n",
              "\n",
              "     last_editor_gender     category      text_clarity  \\\n",
              "4990                man  programming      clear_enough   \n",
              "4055              woman   philosophy      clear_enough   \n",
              "591                 man  programming  not_clear_enough   \n",
              "2606                man  biographies      clear_enough   \n",
              "2593                man   philosophy      clear_enough   \n",
              "\n",
              "                                 preprocessed_paragraph  \n",
              "4990  clippi rust 's built-in lint tool improv corre...  \n",
              "4055  other argu belief may inher maccabees.in first...  \n",
              "591   later basic version commodor platform includ d...  \n",
              "2606  `` world 2 primari realiti . consciou experi b...  \n",
              "2593  aesthet examin affect domain respons object ph...  "
            ],
            "text/html": [
              "\n",
              "  <div id=\"df-c8a469b0-3539-43a0-bb2e-9b61afd3220a\" class=\"colab-df-container\">\n",
              "    <div>\n",
              "<style scoped>\n",
              "    .dataframe tbody tr th:only-of-type {\n",
              "        vertical-align: middle;\n",
              "    }\n",
              "\n",
              "    .dataframe tbody tr th {\n",
              "        vertical-align: top;\n",
              "    }\n",
              "\n",
              "    .dataframe thead th {\n",
              "        text-align: right;\n",
              "    }\n",
              "</style>\n",
              "<table border=\"1\" class=\"dataframe\">\n",
              "  <thead>\n",
              "    <tr style=\"text-align: right;\">\n",
              "      <th></th>\n",
              "      <th>par_id</th>\n",
              "      <th>paragraph</th>\n",
              "      <th>has_entity</th>\n",
              "      <th>lexicon_count</th>\n",
              "      <th>difficult_words</th>\n",
              "      <th>last_editor_gender</th>\n",
              "      <th>category</th>\n",
              "      <th>text_clarity</th>\n",
              "      <th>preprocessed_paragraph</th>\n",
              "    </tr>\n",
              "  </thead>\n",
              "  <tbody>\n",
              "    <tr>\n",
              "      <th>4990</th>\n",
              "      <td>745893011297</td>\n",
              "      <td>Clippy is Rust's built-in linting tool to impr...</td>\n",
              "      <td>ORG_YES_PRODUCT_NO_PERSON_NO_</td>\n",
              "      <td>52</td>\n",
              "      <td>14.0</td>\n",
              "      <td>man</td>\n",
              "      <td>programming</td>\n",
              "      <td>clear_enough</td>\n",
              "      <td>clippi rust 's built-in lint tool improv corre...</td>\n",
              "    </tr>\n",
              "    <tr>\n",
              "      <th>4055</th>\n",
              "      <td>314496008689</td>\n",
              "      <td>Others have argued that the belief may not be ...</td>\n",
              "      <td>ORG_YES_PRODUCT_NO_PERSON_YES_</td>\n",
              "      <td>180</td>\n",
              "      <td>50.0</td>\n",
              "      <td>woman</td>\n",
              "      <td>philosophy</td>\n",
              "      <td>clear_enough</td>\n",
              "      <td>other argu belief may inher maccabees.in first...</td>\n",
              "    </tr>\n",
              "    <tr>\n",
              "      <th>591</th>\n",
              "      <td>392496009362</td>\n",
              "      <td>Later BASIC versions on Commodore and other pl...</td>\n",
              "      <td>ORG_YES_PRODUCT_NO_PERSON_NO_</td>\n",
              "      <td>76</td>\n",
              "      <td>26.0</td>\n",
              "      <td>man</td>\n",
              "      <td>programming</td>\n",
              "      <td>not_clear_enough</td>\n",
              "      <td>later basic version commodor platform includ d...</td>\n",
              "    </tr>\n",
              "    <tr>\n",
              "      <th>2606</th>\n",
              "      <td>686523011071</td>\n",
              "      <td>\"This World 2 is our primary reality. Our cons...</td>\n",
              "      <td>ORG_NO_PRODUCT_NO_PERSON_NO_</td>\n",
              "      <td>159</td>\n",
              "      <td>36.0</td>\n",
              "      <td>man</td>\n",
              "      <td>biographies</td>\n",
              "      <td>clear_enough</td>\n",
              "      <td>`` world 2 primari realiti . consciou experi b...</td>\n",
              "    </tr>\n",
              "    <tr>\n",
              "      <th>2593</th>\n",
              "      <td>13149004382</td>\n",
              "      <td>Aesthetics examines affective domain response ...</td>\n",
              "      <td>ORG_NO_PRODUCT_NO_PERSON_NO_</td>\n",
              "      <td>32</td>\n",
              "      <td>16.0</td>\n",
              "      <td>man</td>\n",
              "      <td>philosophy</td>\n",
              "      <td>clear_enough</td>\n",
              "      <td>aesthet examin affect domain respons object ph...</td>\n",
              "    </tr>\n",
              "  </tbody>\n",
              "</table>\n",
              "</div>\n",
              "    <div class=\"colab-df-buttons\">\n",
              "\n",
              "  <div class=\"colab-df-container\">\n",
              "    <button class=\"colab-df-convert\" onclick=\"convertToInteractive('df-c8a469b0-3539-43a0-bb2e-9b61afd3220a')\"\n",
              "            title=\"Convert this dataframe to an interactive table.\"\n",
              "            style=\"display:none;\">\n",
              "\n",
              "  <svg xmlns=\"http://www.w3.org/2000/svg\" height=\"24px\" viewBox=\"0 -960 960 960\">\n",
              "    <path d=\"M120-120v-720h720v720H120Zm60-500h600v-160H180v160Zm220 220h160v-160H400v160Zm0 220h160v-160H400v160ZM180-400h160v-160H180v160Zm440 0h160v-160H620v160ZM180-180h160v-160H180v160Zm440 0h160v-160H620v160Z\"/>\n",
              "  </svg>\n",
              "    </button>\n",
              "\n",
              "  <style>\n",
              "    .colab-df-container {\n",
              "      display:flex;\n",
              "      gap: 12px;\n",
              "    }\n",
              "\n",
              "    .colab-df-convert {\n",
              "      background-color: #E8F0FE;\n",
              "      border: none;\n",
              "      border-radius: 50%;\n",
              "      cursor: pointer;\n",
              "      display: none;\n",
              "      fill: #1967D2;\n",
              "      height: 32px;\n",
              "      padding: 0 0 0 0;\n",
              "      width: 32px;\n",
              "    }\n",
              "\n",
              "    .colab-df-convert:hover {\n",
              "      background-color: #E2EBFA;\n",
              "      box-shadow: 0px 1px 2px rgba(60, 64, 67, 0.3), 0px 1px 3px 1px rgba(60, 64, 67, 0.15);\n",
              "      fill: #174EA6;\n",
              "    }\n",
              "\n",
              "    .colab-df-buttons div {\n",
              "      margin-bottom: 4px;\n",
              "    }\n",
              "\n",
              "    [theme=dark] .colab-df-convert {\n",
              "      background-color: #3B4455;\n",
              "      fill: #D2E3FC;\n",
              "    }\n",
              "\n",
              "    [theme=dark] .colab-df-convert:hover {\n",
              "      background-color: #434B5C;\n",
              "      box-shadow: 0px 1px 3px 1px rgba(0, 0, 0, 0.15);\n",
              "      filter: drop-shadow(0px 1px 2px rgba(0, 0, 0, 0.3));\n",
              "      fill: #FFFFFF;\n",
              "    }\n",
              "  </style>\n",
              "\n",
              "    <script>\n",
              "      const buttonEl =\n",
              "        document.querySelector('#df-c8a469b0-3539-43a0-bb2e-9b61afd3220a button.colab-df-convert');\n",
              "      buttonEl.style.display =\n",
              "        google.colab.kernel.accessAllowed ? 'block' : 'none';\n",
              "\n",
              "      async function convertToInteractive(key) {\n",
              "        const element = document.querySelector('#df-c8a469b0-3539-43a0-bb2e-9b61afd3220a');\n",
              "        const dataTable =\n",
              "          await google.colab.kernel.invokeFunction('convertToInteractive',\n",
              "                                                    [key], {});\n",
              "        if (!dataTable) return;\n",
              "\n",
              "        const docLinkHtml = 'Like what you see? Visit the ' +\n",
              "          '<a target=\"_blank\" href=https://colab.research.google.com/notebooks/data_table.ipynb>data table notebook</a>'\n",
              "          + ' to learn more about interactive tables.';\n",
              "        element.innerHTML = '';\n",
              "        dataTable['output_type'] = 'display_data';\n",
              "        await google.colab.output.renderOutput(dataTable, element);\n",
              "        const docLink = document.createElement('div');\n",
              "        docLink.innerHTML = docLinkHtml;\n",
              "        element.appendChild(docLink);\n",
              "      }\n",
              "    </script>\n",
              "  </div>\n",
              "\n",
              "\n",
              "<div id=\"df-b083aaa6-b64d-4404-8262-65bf1a33f1c9\">\n",
              "  <button class=\"colab-df-quickchart\" onclick=\"quickchart('df-b083aaa6-b64d-4404-8262-65bf1a33f1c9')\"\n",
              "            title=\"Suggest charts\"\n",
              "            style=\"display:none;\">\n",
              "\n",
              "<svg xmlns=\"http://www.w3.org/2000/svg\" height=\"24px\"viewBox=\"0 0 24 24\"\n",
              "     width=\"24px\">\n",
              "    <g>\n",
              "        <path d=\"M19 3H5c-1.1 0-2 .9-2 2v14c0 1.1.9 2 2 2h14c1.1 0 2-.9 2-2V5c0-1.1-.9-2-2-2zM9 17H7v-7h2v7zm4 0h-2V7h2v10zm4 0h-2v-4h2v4z\"/>\n",
              "    </g>\n",
              "</svg>\n",
              "  </button>\n",
              "\n",
              "<style>\n",
              "  .colab-df-quickchart {\n",
              "      --bg-color: #E8F0FE;\n",
              "      --fill-color: #1967D2;\n",
              "      --hover-bg-color: #E2EBFA;\n",
              "      --hover-fill-color: #174EA6;\n",
              "      --disabled-fill-color: #AAA;\n",
              "      --disabled-bg-color: #DDD;\n",
              "  }\n",
              "\n",
              "  [theme=dark] .colab-df-quickchart {\n",
              "      --bg-color: #3B4455;\n",
              "      --fill-color: #D2E3FC;\n",
              "      --hover-bg-color: #434B5C;\n",
              "      --hover-fill-color: #FFFFFF;\n",
              "      --disabled-bg-color: #3B4455;\n",
              "      --disabled-fill-color: #666;\n",
              "  }\n",
              "\n",
              "  .colab-df-quickchart {\n",
              "    background-color: var(--bg-color);\n",
              "    border: none;\n",
              "    border-radius: 50%;\n",
              "    cursor: pointer;\n",
              "    display: none;\n",
              "    fill: var(--fill-color);\n",
              "    height: 32px;\n",
              "    padding: 0;\n",
              "    width: 32px;\n",
              "  }\n",
              "\n",
              "  .colab-df-quickchart:hover {\n",
              "    background-color: var(--hover-bg-color);\n",
              "    box-shadow: 0 1px 2px rgba(60, 64, 67, 0.3), 0 1px 3px 1px rgba(60, 64, 67, 0.15);\n",
              "    fill: var(--button-hover-fill-color);\n",
              "  }\n",
              "\n",
              "  .colab-df-quickchart-complete:disabled,\n",
              "  .colab-df-quickchart-complete:disabled:hover {\n",
              "    background-color: var(--disabled-bg-color);\n",
              "    fill: var(--disabled-fill-color);\n",
              "    box-shadow: none;\n",
              "  }\n",
              "\n",
              "  .colab-df-spinner {\n",
              "    border: 2px solid var(--fill-color);\n",
              "    border-color: transparent;\n",
              "    border-bottom-color: var(--fill-color);\n",
              "    animation:\n",
              "      spin 1s steps(1) infinite;\n",
              "  }\n",
              "\n",
              "  @keyframes spin {\n",
              "    0% {\n",
              "      border-color: transparent;\n",
              "      border-bottom-color: var(--fill-color);\n",
              "      border-left-color: var(--fill-color);\n",
              "    }\n",
              "    20% {\n",
              "      border-color: transparent;\n",
              "      border-left-color: var(--fill-color);\n",
              "      border-top-color: var(--fill-color);\n",
              "    }\n",
              "    30% {\n",
              "      border-color: transparent;\n",
              "      border-left-color: var(--fill-color);\n",
              "      border-top-color: var(--fill-color);\n",
              "      border-right-color: var(--fill-color);\n",
              "    }\n",
              "    40% {\n",
              "      border-color: transparent;\n",
              "      border-right-color: var(--fill-color);\n",
              "      border-top-color: var(--fill-color);\n",
              "    }\n",
              "    60% {\n",
              "      border-color: transparent;\n",
              "      border-right-color: var(--fill-color);\n",
              "    }\n",
              "    80% {\n",
              "      border-color: transparent;\n",
              "      border-right-color: var(--fill-color);\n",
              "      border-bottom-color: var(--fill-color);\n",
              "    }\n",
              "    90% {\n",
              "      border-color: transparent;\n",
              "      border-bottom-color: var(--fill-color);\n",
              "    }\n",
              "  }\n",
              "</style>\n",
              "\n",
              "  <script>\n",
              "    async function quickchart(key) {\n",
              "      const quickchartButtonEl =\n",
              "        document.querySelector('#' + key + ' button');\n",
              "      quickchartButtonEl.disabled = true;  // To prevent multiple clicks.\n",
              "      quickchartButtonEl.classList.add('colab-df-spinner');\n",
              "      try {\n",
              "        const charts = await google.colab.kernel.invokeFunction(\n",
              "            'suggestCharts', [key], {});\n",
              "      } catch (error) {\n",
              "        console.error('Error during call to suggestCharts:', error);\n",
              "      }\n",
              "      quickchartButtonEl.classList.remove('colab-df-spinner');\n",
              "      quickchartButtonEl.classList.add('colab-df-quickchart-complete');\n",
              "    }\n",
              "    (() => {\n",
              "      let quickchartButtonEl =\n",
              "        document.querySelector('#df-b083aaa6-b64d-4404-8262-65bf1a33f1c9 button');\n",
              "      quickchartButtonEl.style.display =\n",
              "        google.colab.kernel.accessAllowed ? 'block' : 'none';\n",
              "    })();\n",
              "  </script>\n",
              "</div>\n",
              "    </div>\n",
              "  </div>\n"
            ],
            "application/vnd.google.colaboratory.intrinsic+json": {
              "type": "dataframe",
              "variable_name": "clarity",
              "summary": "{\n  \"name\": \"clarity\",\n  \"rows\": 100,\n  \"fields\": [\n    {\n      \"column\": \"par_id\",\n      \"properties\": {\n        \"dtype\": \"number\",\n        \"std\": 350694023486,\n        \"min\": 4076003543,\n        \"max\": 1037911012961,\n        \"num_unique_values\": 100,\n        \"samples\": [\n          288645008441,\n          110509006405,\n          6360003848\n        ],\n        \"semantic_type\": \"\",\n        \"description\": \"\"\n      }\n    },\n    {\n      \"column\": \"paragraph\",\n      \"properties\": {\n        \"dtype\": \"string\",\n        \"num_unique_values\": 100,\n        \"samples\": [\n          \"In 1959 Medawar was invited by the BBC to present the broadcaster's annual Reith Lectures\\u2014following in the footsteps of his colleague, J. Z. Young, who was Reith Lecturer in 1950. For his own series of six radio broadcasts, titled The Future of Man, Medawar examined how the human race might continue to evolve.\",\n          \"text: text. In versions of AppleScript before 2.0  the text class was distinct from string and Unicode text, and the three behaved somewhat differently; in 2.0  and later, they are all synonyms and all text is handled as being UTF-16 -encoded.\",\n          \"Finding a provably correct or optimal solution is intractable for many important problems. Soft computing is a set of techniques, including genetic algorithms, fuzzy logic and neural networks, that are tolerant of imprecision, uncertainty, partial truth and approximation. Soft computing was introduced in the late 1980s and most successful AI programs in the 21st century are examples of soft computing with neural networks.\"\n        ],\n        \"semantic_type\": \"\",\n        \"description\": \"\"\n      }\n    },\n    {\n      \"column\": \"has_entity\",\n      \"properties\": {\n        \"dtype\": \"category\",\n        \"num_unique_values\": 7,\n        \"samples\": [\n          \"ORG_YES_PRODUCT_NO_PERSON_NO_\",\n          \"ORG_YES_PRODUCT_NO_PERSON_YES_\",\n          \"ORG_NO_PRODUCT_YES_PERSON_NO_\"\n        ],\n        \"semantic_type\": \"\",\n        \"description\": \"\"\n      }\n    },\n    {\n      \"column\": \"lexicon_count\",\n      \"properties\": {\n        \"dtype\": \"number\",\n        \"std\": 45,\n        \"min\": 15,\n        \"max\": 190,\n        \"num_unique_values\": 68,\n        \"samples\": [\n          36,\n          55,\n          32\n        ],\n        \"semantic_type\": \"\",\n        \"description\": \"\"\n      }\n    },\n    {\n      \"column\": \"difficult_words\",\n      \"properties\": {\n        \"dtype\": \"number\",\n        \"std\": 13.201622183763186,\n        \"min\": 2.0,\n        \"max\": 59.0,\n        \"num_unique_values\": 39,\n        \"samples\": [\n          20.0,\n          29.0,\n          16.0\n        ],\n        \"semantic_type\": \"\",\n        \"description\": \"\"\n      }\n    },\n    {\n      \"column\": \"last_editor_gender\",\n      \"properties\": {\n        \"dtype\": \"category\",\n        \"num_unique_values\": 4,\n        \"samples\": [\n          \"woman\",\n          \"prefer_not_to_say\",\n          \"man\"\n        ],\n        \"semantic_type\": \"\",\n        \"description\": \"\"\n      }\n    },\n    {\n      \"column\": \"category\",\n      \"properties\": {\n        \"dtype\": \"category\",\n        \"num_unique_values\": 6,\n        \"samples\": [\n          \"programming\",\n          \"philosophy\",\n          \"movies about artificial intelligence\"\n        ],\n        \"semantic_type\": \"\",\n        \"description\": \"\"\n      }\n    },\n    {\n      \"column\": \"text_clarity\",\n      \"properties\": {\n        \"dtype\": \"category\",\n        \"num_unique_values\": 2,\n        \"samples\": [\n          \"not_clear_enough\",\n          \"clear_enough\"\n        ],\n        \"semantic_type\": \"\",\n        \"description\": \"\"\n      }\n    },\n    {\n      \"column\": \"preprocessed_paragraph\",\n      \"properties\": {\n        \"dtype\": \"string\",\n        \"num_unique_values\": 100,\n        \"samples\": [\n          \"1959 medawar invit bbc present broadcast 's annual reith lectures\\u2014follow footstep colleagu , j . z . young , reith lectur 1950 . seri six radio broadcast , titl futur man , medawar examin human race might continu evolv .\",\n          \"text : text . version applescript 2.0 text class distinct string unicod text , three behav somewhat differ ; 2.0 later , synonym text handl utf-16 -encod .\"\n        ],\n        \"semantic_type\": \"\",\n        \"description\": \"\"\n      }\n    }\n  ]\n}"
            }
          },
          "metadata": {},
          "execution_count": 40
        }
      ],
      "source": [
        "clarity.head()"
      ]
    },
    {
      "cell_type": "code",
      "execution_count": 41,
      "id": "f3e81de8",
      "metadata": {
        "id": "f3e81de8"
      },
      "outputs": [],
      "source": [
        "X_train, X_test, y_train, y_test = train_test_split(clarity['paragraph'], clarity['text_clarity'],\n",
        "                                                    test_size=0.2)"
      ]
    },
    {
      "cell_type": "code",
      "execution_count": 42,
      "id": "f97cff20",
      "metadata": {
        "id": "f97cff20"
      },
      "outputs": [],
      "source": [
        "# Feature extraction using TF-Ipara_data\n",
        "tfipara_data_vectorizer = TfidfVectorizer()\n",
        "X_train_tfipara_data = tfipara_data_vectorizer.fit_transform(X_train)\n",
        "X_test_tfipara_data = tfipara_data_vectorizer.transform(X_test)"
      ]
    },
    {
      "cell_type": "code",
      "execution_count": 43,
      "id": "5b19e7e0",
      "metadata": {
        "id": "5b19e7e0"
      },
      "outputs": [],
      "source": [
        "from sklearn.ensemble import AdaBoostClassifier"
      ]
    },
    {
      "cell_type": "code",
      "execution_count": 44,
      "id": "4ec21990",
      "metadata": {
        "colab": {
          "base_uri": "https://localhost:8080/",
          "height": 74
        },
        "id": "4ec21990",
        "outputId": "9f799cfa-a845-4d4d-e941-f57c59b63545"
      },
      "outputs": [
        {
          "output_type": "execute_result",
          "data": {
            "text/plain": [
              "AdaBoostClassifier()"
            ],
            "text/html": [
              "<style>#sk-container-id-2 {color: black;background-color: white;}#sk-container-id-2 pre{padding: 0;}#sk-container-id-2 div.sk-toggleable {background-color: white;}#sk-container-id-2 label.sk-toggleable__label {cursor: pointer;display: block;width: 100%;margin-bottom: 0;padding: 0.3em;box-sizing: border-box;text-align: center;}#sk-container-id-2 label.sk-toggleable__label-arrow:before {content: \"▸\";float: left;margin-right: 0.25em;color: #696969;}#sk-container-id-2 label.sk-toggleable__label-arrow:hover:before {color: black;}#sk-container-id-2 div.sk-estimator:hover label.sk-toggleable__label-arrow:before {color: black;}#sk-container-id-2 div.sk-toggleable__content {max-height: 0;max-width: 0;overflow: hidden;text-align: left;background-color: #f0f8ff;}#sk-container-id-2 div.sk-toggleable__content pre {margin: 0.2em;color: black;border-radius: 0.25em;background-color: #f0f8ff;}#sk-container-id-2 input.sk-toggleable__control:checked~div.sk-toggleable__content {max-height: 200px;max-width: 100%;overflow: auto;}#sk-container-id-2 input.sk-toggleable__control:checked~label.sk-toggleable__label-arrow:before {content: \"▾\";}#sk-container-id-2 div.sk-estimator input.sk-toggleable__control:checked~label.sk-toggleable__label {background-color: #d4ebff;}#sk-container-id-2 div.sk-label input.sk-toggleable__control:checked~label.sk-toggleable__label {background-color: #d4ebff;}#sk-container-id-2 input.sk-hidden--visually {border: 0;clip: rect(1px 1px 1px 1px);clip: rect(1px, 1px, 1px, 1px);height: 1px;margin: -1px;overflow: hidden;padding: 0;position: absolute;width: 1px;}#sk-container-id-2 div.sk-estimator {font-family: monospace;background-color: #f0f8ff;border: 1px dotted black;border-radius: 0.25em;box-sizing: border-box;margin-bottom: 0.5em;}#sk-container-id-2 div.sk-estimator:hover {background-color: #d4ebff;}#sk-container-id-2 div.sk-parallel-item::after {content: \"\";width: 100%;border-bottom: 1px solid gray;flex-grow: 1;}#sk-container-id-2 div.sk-label:hover label.sk-toggleable__label {background-color: #d4ebff;}#sk-container-id-2 div.sk-serial::before {content: \"\";position: absolute;border-left: 1px solid gray;box-sizing: border-box;top: 0;bottom: 0;left: 50%;z-index: 0;}#sk-container-id-2 div.sk-serial {display: flex;flex-direction: column;align-items: center;background-color: white;padding-right: 0.2em;padding-left: 0.2em;position: relative;}#sk-container-id-2 div.sk-item {position: relative;z-index: 1;}#sk-container-id-2 div.sk-parallel {display: flex;align-items: stretch;justify-content: center;background-color: white;position: relative;}#sk-container-id-2 div.sk-item::before, #sk-container-id-2 div.sk-parallel-item::before {content: \"\";position: absolute;border-left: 1px solid gray;box-sizing: border-box;top: 0;bottom: 0;left: 50%;z-index: -1;}#sk-container-id-2 div.sk-parallel-item {display: flex;flex-direction: column;z-index: 1;position: relative;background-color: white;}#sk-container-id-2 div.sk-parallel-item:first-child::after {align-self: flex-end;width: 50%;}#sk-container-id-2 div.sk-parallel-item:last-child::after {align-self: flex-start;width: 50%;}#sk-container-id-2 div.sk-parallel-item:only-child::after {width: 0;}#sk-container-id-2 div.sk-dashed-wrapped {border: 1px dashed gray;margin: 0 0.4em 0.5em 0.4em;box-sizing: border-box;padding-bottom: 0.4em;background-color: white;}#sk-container-id-2 div.sk-label label {font-family: monospace;font-weight: bold;display: inline-block;line-height: 1.2em;}#sk-container-id-2 div.sk-label-container {text-align: center;}#sk-container-id-2 div.sk-container {/* jupyter's `normalize.less` sets `[hidden] { display: none; }` but bootstrap.min.css set `[hidden] { display: none !important; }` so we also need the `!important` here to be able to override the default hidden behavior on the sphinx rendered scikit-learn.org. See: https://github.com/scikit-learn/scikit-learn/issues/21755 */display: inline-block !important;position: relative;}#sk-container-id-2 div.sk-text-repr-fallback {display: none;}</style><div id=\"sk-container-id-2\" class=\"sk-top-container\"><div class=\"sk-text-repr-fallback\"><pre>AdaBoostClassifier()</pre><b>In a Jupyter environment, please rerun this cell to show the HTML representation or trust the notebook. <br />On GitHub, the HTML representation is unable to render, please try loading this page with nbviewer.org.</b></div><div class=\"sk-container\" hidden><div class=\"sk-item\"><div class=\"sk-estimator sk-toggleable\"><input class=\"sk-toggleable__control sk-hidden--visually\" id=\"sk-estimator-id-2\" type=\"checkbox\" checked><label for=\"sk-estimator-id-2\" class=\"sk-toggleable__label sk-toggleable__label-arrow\">AdaBoostClassifier</label><div class=\"sk-toggleable__content\"><pre>AdaBoostClassifier()</pre></div></div></div></div></div>"
            ]
          },
          "metadata": {},
          "execution_count": 44
        }
      ],
      "source": [
        "# Model Training\n",
        "aboost = AdaBoostClassifier()\n",
        "aboost.fit(X_train_tfipara_data, y_train)"
      ]
    },
    {
      "cell_type": "code",
      "execution_count": 45,
      "id": "329fce5d",
      "metadata": {
        "colab": {
          "base_uri": "https://localhost:8080/"
        },
        "id": "329fce5d",
        "outputId": "5f4063ae-1ce2-44ab-e0ac-aa04f673a634"
      },
      "outputs": [
        {
          "output_type": "execute_result",
          "data": {
            "text/plain": [
              "0.35"
            ]
          },
          "metadata": {},
          "execution_count": 45
        }
      ],
      "source": [
        "# Model Evaluation\n",
        "logreg_pred = aboost.predict(X_test_tfipara_data)\n",
        "accuracy_score(y_test, logreg_pred)"
      ]
    },
    {
      "cell_type": "code",
      "execution_count": 46,
      "id": "0a2bedbc",
      "metadata": {
        "colab": {
          "base_uri": "https://localhost:8080/"
        },
        "id": "0a2bedbc",
        "outputId": "bbdd7eed-d71e-4b95-dbaa-9b23542f6291"
      },
      "outputs": [
        {
          "output_type": "stream",
          "name": "stdout",
          "text": [
            "Classification Report:\n",
            "                   precision    recall  f1-score   support\n",
            "\n",
            "    clear_enough       0.38      0.27      0.32        11\n",
            "not_clear_enough       0.33      0.44      0.38         9\n",
            "\n",
            "        accuracy                           0.35        20\n",
            "       macro avg       0.35      0.36      0.35        20\n",
            "    weighted avg       0.36      0.35      0.35        20\n",
            "\n"
          ]
        }
      ],
      "source": [
        "print(\"Classification Report:\\n\", classification_report(y_test, logreg_pred))"
      ]
    },
    {
      "cell_type": "code",
      "execution_count": null,
      "id": "9435e0f3",
      "metadata": {
        "id": "9435e0f3"
      },
      "outputs": [],
      "source": []
    }
  ],
  "metadata": {
    "kernelspec": {
      "display_name": "Python 3 (ipykernel)",
      "language": "python",
      "name": "python3"
    },
    "language_info": {
      "codemirror_mode": {
        "name": "ipython",
        "version": 3
      },
      "file_extension": ".py",
      "mimetype": "text/x-python",
      "name": "python",
      "nbconvert_exporter": "python",
      "pygments_lexer": "ipython3",
      "version": "3.11.3"
    },
    "colab": {
      "provenance": []
    }
  },
  "nbformat": 4,
  "nbformat_minor": 5
}
